{
 "cells": [
  {
   "cell_type": "markdown",
   "id": "c6afdb8a-dc4e-4bd9-bc53-2d84cdd42807",
   "metadata": {},
   "source": [
    "# Data Science Tools and Ecosystem "
   ]
  },
  {
   "cell_type": "markdown",
   "id": "93f8c47c-0bc2-4632-a194-e6cc3d1020c2",
   "metadata": {},
   "source": [
    "In this notebook, Data Science Tools and Ecosystem are summarized."
   ]
  },
  {
   "cell_type": "markdown",
   "id": "c7fe1df2-76e6-4657-ba0b-e4c9d646feff",
   "metadata": {},
   "source": [
    "objectives:\n",
    "* Creating tables\n",
    "* creating ordered and unordered lists\n",
    "* using markdowns in jupyter lab\n"
   ]
  },
  {
   "cell_type": "markdown",
   "id": "5fe4d3e5-7d21-4cd7-9891-aeffbb30649b",
   "metadata": {},
   "source": [
    "Some of the popular languages that Data Scientists use are:\n",
    " 1. Python\n",
    " 2. R\n",
    " 3. Scala\n"
   ]
  },
  {
   "cell_type": "markdown",
   "id": "c729194d-4821-4877-87e6-cb0125289ba0",
   "metadata": {},
   "source": [
    "Some of the commonly used libraries used by Data Scientists include:\n",
    "  1. Numpy\n",
    "  2. Pandas\n",
    "  3. SciKit-learn\n",
    "  4. Tensorflow"
   ]
  },
  {
   "cell_type": "markdown",
   "id": "3e000229-5ce3-4085-a28d-e256a32414a4",
   "metadata": {},
   "source": [
    "|Data Science tools \n",
    "|------------------\n",
    "|Jupyter Notebooks\n",
    "|RStudio            \n",
    "|GitHub            "
   ]
  },
  {
   "cell_type": "markdown",
   "id": "c40180aa-2d6a-41a4-b0d9-b0813295a2c6",
   "metadata": {},
   "source": [
    "### Below are a few examples of evaluating arithmetic expressions in Python.\n"
   ]
  },
  {
   "cell_type": "code",
   "execution_count": 2,
   "id": "4fccbcf0-38c9-45a9-9538-a86a90bc8ab6",
   "metadata": {},
   "outputs": [
    {
     "data": {
      "text/plain": [
       "17"
      ]
     },
     "execution_count": 2,
     "metadata": {},
     "output_type": "execute_result"
    }
   ],
   "source": [
    "(3*4)+5\n",
    "#This a simple arithmetic expression to mutiply then add integers."
   ]
  },
  {
   "cell_type": "code",
   "execution_count": 6,
   "id": "5154ac5f-1390-4c81-b709-5f82ef9ade67",
   "metadata": {},
   "outputs": [
    {
     "name": "stdout",
     "output_type": "stream",
     "text": [
      "3.3333333333333335\n"
     ]
    }
   ],
   "source": [
    "#Convert minutes to hours\n",
    "minutes=200\n",
    "hours=minutes/60\n",
    "print(hours)\n"
   ]
  },
  {
   "cell_type": "markdown",
   "id": "88c8e1c1-f3df-41f8-bfd2-5547d2ca7d30",
   "metadata": {},
   "source": [
    "## Author\n",
    "Janani"
   ]
  }
 ],
 "metadata": {
  "kernelspec": {
   "display_name": "Python 3 (ipykernel)",
   "language": "python",
   "name": "python3"
  },
  "language_info": {
   "codemirror_mode": {
    "name": "ipython",
    "version": 3
   },
   "file_extension": ".py",
   "mimetype": "text/x-python",
   "name": "python",
   "nbconvert_exporter": "python",
   "pygments_lexer": "ipython3",
   "version": "3.12.1"
  }
 },
 "nbformat": 4,
 "nbformat_minor": 5
}
